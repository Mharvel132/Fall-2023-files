{
  "cells": [
    {
      "cell_type": "markdown",
      "metadata": {
        "id": "NYiRI0CLDVQQ"
      },
      "source": [
        "# Monday, August 28\n",
        "\n",
        "#### Announcements\n",
        "Before class starts: \n",
        "- Go to our github repository (https://github.com/UNC-CS130/Fall-2023-Files, or follow the link from Canvas).\n",
        "- Switch to your fork (the down-arrow on the `Forks` button).\n",
        "- Click on `Sync fork` and elect to add changes from upstream.\n",
        "- Open your Codespace for the repository or create a new one.\n",
        "- If you don't see this file (`Week02/Monday.ipynb`), do a \"Fetch\" from your \"origin\" (hit `CTRL+SHIFT+P`, type in `Fetch`).\n",
        "\n",
        "Work outside of class:\n",
        "- Reading for Chapter 3 is due on Wednesday before class.\n"
      ]
    },
    {
      "cell_type": "markdown",
      "metadata": {},
      "source": [
        "### Questions?"
      ]
    },
    {
      "cell_type": "markdown",
      "metadata": {
        "id": "hLj-dXhKD0Tb"
      },
      "source": [
        "## Today's Activity: A very depressing calculator\n",
        "\n",
        "In chapter 2, you read about expressions, variables (and their types), and operations.  Today, we will put those into practice by writing a python program to calculate how much time you have left.\n",
        "\n",
        "More specifically, we will create a python script that asks the \"user\" for their birthday and a target age.  The script will then calculate the number of days or weeks or etc until the user reaches that age."
      ]
    },
    {
      "cell_type": "markdown",
      "metadata": {},
      "source": [
        "### Problem specification\n",
        "\n",
        "Before jumping into writing code, we should specify exactly what we want our program to do.  What requirements do we have?\n",
        "\n",
        "First pass: do everything in years.\n",
        "\n",
        "1. Ask user for name\n",
        "2. Ask user for birthday\n",
        "3. Ask user for target age\n",
        "4. Ask for current day\n",
        "5. Calculate how many years until they will be that age.\n",
        "    1. First calculate current age\n",
        "    2. Then subtract\n",
        "6. Print out a messafe telling the user how long until they are that age.\n",
        "Second pass: weeks or days"
      ]
    },
    {
      "cell_type": "markdown",
      "metadata": {},
      "source": [
        "### Building requirements, one at a time\n",
        "\n",
        "Now let's start coding.  But take it slow.  We want to make sure that we can complete each requirement.  As we go, we will test that each requirement is met. \n",
        "\n",
        "Start with requirement 1 above.  What code can we write that does that step?"
      ]
    },
    {
      "cell_type": "code",
      "execution_count": 3,
      "metadata": {},
      "outputs": [
        {
          "name": "stdout",
          "output_type": "stream",
          "text": [
            "You are 24 years old\n",
            "If you want to live to 86,\n",
            "You only have 62 years remaining! Use them wisely\n",
            "You are 17 years old\n",
            "If you want to live to 20,\n",
            "You only have 3 years remaining! Use them wisely\n"
          ]
        }
      ],
      "source": [
        "from datetime import date\n",
        "\n",
        "while True:\n",
        "    birth_year = int(input(\"Enter your birth year: \"))\n",
        "    birth_month = int(input(\"Enter your birth month: \"))\n",
        "    birth_day = int(input(\"Enter your birth day: \"))\n",
        "\n",
        "    # Following code was retrieved online and altered to work with above code\n",
        "    def calculateAge (birthDate):\n",
        "        today = date.today()\n",
        "        age = today.year - birthDate.year - ((today.month, today.day) < (birthDate.month, birthDate.day))\n",
        "\n",
        "        return age\n",
        "    \n",
        "    #Own code\n",
        "    print(\"You are \" + str(calculateAge(date(birth_year, birth_month, birth_day))), \"years old\")\n",
        "\n",
        "    Target_Age = int(input(\"To what age would you like to live to? \"))\n",
        "    Years_Remaining = Target_Age - calculateAge(date(birth_year, birth_month, birth_day))\n",
        "\n",
        "    print(f\"If you want to live to {Target_Age},\") \n",
        "    print(f\"You only have {Years_Remaining} years remaining! Use them wisely\")\n",
        "\n",
        "    answer = input(\"Would you like to calculate your remaining years again? Y/N \")\n",
        "    if answer == 'N':\n",
        "        break\n",
        "\n"
      ]
    },
    {
      "cell_type": "markdown",
      "metadata": {},
      "source": [
        "### Keep going\n",
        "\n",
        "Now iterate this process.  Working in the code above, start adding functionality to your program, making sure that each thing you add is added correctly.\n",
        "\n",
        "You might discover that you should ask the user to enter information in a different format to make your life easier.  Make good choices.\n",
        "\n",
        "This is a good opportunity to write comments in your code to help keep it organized.  Remember, comments start with the `#` character."
      ]
    },
    {
      "cell_type": "code",
      "execution_count": null,
      "metadata": {},
      "outputs": [],
      "source": [
        "def str2date (datestring):\n",
        "    #datestring looks like 02/25/2023\n",
        "    date = datestring.split('/')\n",
        "\n",
        "    date_dict = {\"month\" : int(date[0]), \"day\": int(date[1]), \"year\": int(date[2])}\n",
        "    return date_dict"
      ]
    }
  ],
  "metadata": {
    "colab": {
      "provenance": []
    },
    "kernelspec": {
      "display_name": "Python 3",
      "name": "python3"
    },
    "language_info": {
      "codemirror_mode": {
        "name": "ipython",
        "version": 3
      },
      "file_extension": ".py",
      "mimetype": "text/x-python",
      "name": "python",
      "nbconvert_exporter": "python",
      "pygments_lexer": "ipython3",
      "version": "3.10.8"
    }
  },
  "nbformat": 4,
  "nbformat_minor": 0
}
