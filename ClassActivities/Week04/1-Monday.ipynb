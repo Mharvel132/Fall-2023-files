{
  "cells": [
    {
      "cell_type": "markdown",
      "metadata": {},
      "source": [
        "# Monday, September 11\n",
        "## Announcements and Reminders\n",
        "- Chapter 5 Reading due today, but definitely by Wednesday\n",
        "- Programming Assignment 2: Available soon, due next Monday\n",
        "\n",
        "## Questions:"
      ]
    },
    {
      "cell_type": "markdown",
      "metadata": {},
      "source": []
    },
    {
      "cell_type": "markdown",
      "metadata": {
        "id": "rPcP5eWXAO1Y"
      },
      "source": [
        "## Activity: Turtles, Geometry, and Fractals\n",
        "\n",
        "We will continue using the python turtle to get visual feedback on how functions work.\n",
        "\n",
        "Our goal for today is to produce shapes like the following, without writing hundreds of lines of code.\n"
      ]
    },
    {
      "cell_type": "markdown",
      "metadata": {},
      "source": [
        "<!-- ![Spiral](spiral.png) -->\n",
        "<div>\n",
        "<img src=\"spiral.png\" width=\"800\"/>\n",
        "</div>"
      ]
    },
    {
      "cell_type": "markdown",
      "metadata": {
        "id": "u4mMqfI6ueCr"
      },
      "source": [
        "**Important**: I have found a better turtle module called `ColabTurtlePlus` that is easer to use than the `ipyturtle3` we were using last time.  \n",
        "\n",
        "Before you start executing any code, run the following command in the terminal:\n",
        "\n",
        "`pip install ColabTurtlePlus`\n",
        "\n",
        "Or, just execute the following cell in the notebook:"
      ]
    },
    {
      "cell_type": "code",
      "execution_count": null,
      "metadata": {},
      "outputs": [],
      "source": [
        "!pip install ColabTurtlePlus"
      ]
    },
    {
      "cell_type": "markdown",
      "metadata": {},
      "source": [
        "We will create a turtle and screen to use throughout the activity.  Let's call our turtle \"Tracy\" this time.  Because clearly that is the best name for a turtle.  \n"
      ]
    },
    {
      "cell_type": "code",
      "execution_count": 2,
      "metadata": {},
      "outputs": [
        {
          "name": "stdout",
          "output_type": "stream",
          "text": [
            "Put clearscreen() as the first line in a cell (after the import command) to re-run turtle commands in the cell\n"
          ]
        },
        {
          "data": {
            "text/html": [
              "\n",
              "      <svg width=\"800\" height=\"600\">  \n",
              "        <rect width=\"100%\" height=\"100%\" style=\"fill:rgb(10,0,50);stroke:;stroke-width:1\"/>\n",
              "        \n",
              "        \n",
              "        \n",
              "        \n",
              "        \n",
              "        <g id=\"turtle\" visibility=\"visible\" transform=\"rotate(90,400.0,300.0) translate(400.0, 300.0)\">\n",
              "<path style=\"stroke:black;fill-rule:evenodd;fill:black;fill-opacity:1;\" transform=\"skewX(0) scale(1,1)\" d=\"m 1.1536693,-18.56101 c -2.105469,1.167969 -3.203125,3.441407 -3.140625,6.5 l 0.011719,0.519532 -0.300782,-0.15625 c -1.308594,-0.671875 -2.828125,-0.824219 -4.378906,-0.429688 -1.9375,0.484375 -3.8906253,2.089844 -6.0117193,4.9257825 -1.332031,1.785156 -1.714843,2.644531 -1.351562,3.035156 l 0.113281,0.125 h 0.363281 c 0.71875,0 1.308594,-0.265625 4.6679693,-2.113282 1.199219,-0.660156 2.183594,-1.199218 2.191406,-1.199218 0.00781,0 -0.023437,0.089844 -0.074218,0.195312 -0.472657,1.058594 -1.046876,2.785156 -1.335938,4.042969 -1.054688,4.574219 -0.351562,8.453125 2.101562,11.582031 0.28125,0.355469 0.292969,0.253906 -0.097656,0.722656 -2.046875,2.4609375 -3.027344,4.8984375 -2.734375,6.8046875 0.050781,0.339844 0.042969,0.335938 0.679688,0.335938 2.023437,0 4.15625,-1.316407 6.21875,-3.835938 0.222656,-0.269531 0.191406,-0.261719 0.425781,-0.113281 0.730469,0.46875 2.460938,1.390625 2.613281,1.390625 0.160157,0 1.765625,-0.753906 2.652344,-1.246094 0.167969,-0.09375 0.308594,-0.164062 0.308594,-0.160156 0.066406,0.105468 0.761719,0.855468 1.085937,1.171875 1.613282,1.570312 3.339844,2.402343 5.3593747,2.570312 0.324219,0.02734 0.355469,0.0078 0.425781,-0.316406 0.375,-1.742187 -0.382812,-4.058594 -2.1445307,-6.5585935 l -0.320312,-0.457031 0.15625,-0.183594 c 3.2460927,-3.824218 3.4335927,-9.08593704 0.558593,-15.816406 l -0.050781,-0.125 1.7382807,0.859375 c 3.585938,1.773437 4.371094,2.097656 5.085938,2.097656 0.945312,0 0.75,-0.863281 -0.558594,-2.507812 C 11.458356,-11.838353 8.3333563,-13.268041 4.8607003,-11.721166 l -0.363281,0.164063 0.019531,-0.09375 c 0.121094,-0.550781 0.183594,-1.800781 0.121094,-2.378907 -0.203125,-1.867187 -1.035157,-3.199218 -2.695313,-4.308593 -0.523437,-0.351563 -0.546875,-0.355469 -0.789062,-0.222657\" />\n",
              "</g>\n",
              "      </svg>\n",
              "    "
            ],
            "text/plain": [
              "<IPython.core.display.HTML object>"
            ]
          },
          "metadata": {},
          "output_type": "display_data"
        }
      ],
      "source": [
        "from ColabTurtlePlus.Turtle import *\n",
        "# Every time we want to have a new screen, we will use the following commands to create a new screen and a new turtle object:\n",
        "# Name the screen and turtle objects:\n",
        "clearscreen()\n",
        "Sandbox = Screen()\n",
        "Tracy = Turtle()\n",
        "\n",
        "# Set properties for Sandbox and Tracy\n",
        "Sandbox.bgcolor(10, 0, 50)\n",
        "Tracy.shape(\"turtle\")\n",
        "\n",
        "Tracy.color(\"orange\")"
      ]
    },
    {
      "cell_type": "markdown",
      "metadata": {},
      "source": [
        "Now let's draw a square.  First, the slow way:"
      ]
    },
    {
      "cell_type": "code",
      "execution_count": null,
      "metadata": {},
      "outputs": [],
      "source": []
    },
    {
      "cell_type": "code",
      "execution_count": 7,
      "metadata": {},
      "outputs": [
        {
          "data": {
            "text/html": [
              "\n",
              "      <svg width=\"800\" height=\"600\">  \n",
              "        <rect width=\"100%\" height=\"100%\" style=\"fill:rgb(10,0,40);stroke:;stroke-width:1\"/>\n",
              "        \n",
              "        \n",
              "        <line x1=\"400.0\" y1=\"300.0\" x2=\"500.0\" y2=\"300.0\" stroke-linecap=\"round\" style=\"stroke:orange;stroke-width:1\" /><line x1=\"500.0\" y1=\"300.0\" x2=\"500.0\" y2=\"200.0\" stroke-linecap=\"round\" style=\"stroke:orange;stroke-width:1\" /><line x1=\"500.0\" y1=\"200.0\" x2=\"400.0\" y2=\"200.0\" stroke-linecap=\"round\" style=\"stroke:orange;stroke-width:1\" /><line x1=\"400.0\" y1=\"200.0\" x2=\"400.0\" y2=\"300.0\" stroke-linecap=\"round\" style=\"stroke:orange;stroke-width:1\" />\n",
              "        \n",
              "        \n",
              "        <g id=\"turtle\" visibility=\"visible\" transform=\"rotate(180,400.0,300.0) translate(400.0, 300.0)\">\n",
              "<path style=\"stroke:orange;fill-rule:evenodd;fill:orange;fill-opacity:1;\" transform=\"skewX(0) scale(1,1)\" d=\"m 1.1536693,-18.56101 c -2.105469,1.167969 -3.203125,3.441407 -3.140625,6.5 l 0.011719,0.519532 -0.300782,-0.15625 c -1.308594,-0.671875 -2.828125,-0.824219 -4.378906,-0.429688 -1.9375,0.484375 -3.8906253,2.089844 -6.0117193,4.9257825 -1.332031,1.785156 -1.714843,2.644531 -1.351562,3.035156 l 0.113281,0.125 h 0.363281 c 0.71875,0 1.308594,-0.265625 4.6679693,-2.113282 1.199219,-0.660156 2.183594,-1.199218 2.191406,-1.199218 0.00781,0 -0.023437,0.089844 -0.074218,0.195312 -0.472657,1.058594 -1.046876,2.785156 -1.335938,4.042969 -1.054688,4.574219 -0.351562,8.453125 2.101562,11.582031 0.28125,0.355469 0.292969,0.253906 -0.097656,0.722656 -2.046875,2.4609375 -3.027344,4.8984375 -2.734375,6.8046875 0.050781,0.339844 0.042969,0.335938 0.679688,0.335938 2.023437,0 4.15625,-1.316407 6.21875,-3.835938 0.222656,-0.269531 0.191406,-0.261719 0.425781,-0.113281 0.730469,0.46875 2.460938,1.390625 2.613281,1.390625 0.160157,0 1.765625,-0.753906 2.652344,-1.246094 0.167969,-0.09375 0.308594,-0.164062 0.308594,-0.160156 0.066406,0.105468 0.761719,0.855468 1.085937,1.171875 1.613282,1.570312 3.339844,2.402343 5.3593747,2.570312 0.324219,0.02734 0.355469,0.0078 0.425781,-0.316406 0.375,-1.742187 -0.382812,-4.058594 -2.1445307,-6.5585935 l -0.320312,-0.457031 0.15625,-0.183594 c 3.2460927,-3.824218 3.4335927,-9.08593704 0.558593,-15.816406 l -0.050781,-0.125 1.7382807,0.859375 c 3.585938,1.773437 4.371094,2.097656 5.085938,2.097656 0.945312,0 0.75,-0.863281 -0.558594,-2.507812 C 11.458356,-11.838353 8.3333563,-13.268041 4.8607003,-11.721166 l -0.363281,0.164063 0.019531,-0.09375 c 0.121094,-0.550781 0.183594,-1.800781 0.121094,-2.378907 -0.203125,-1.867187 -1.035157,-3.199218 -2.695313,-4.308593 -0.523437,-0.351563 -0.546875,-0.355469 -0.789062,-0.222657\" />\n",
              "<animateTransform id = \"one\" attributeName=\"transform\" \n",
              "                      type=\"scale\"\n",
              "                      from=\"1 1\" to=\"0.5 0.5\"\n",
              "                      begin=\"0s\" dur=\"0.01s\"\n",
              "                      repeatCount=\"1\"\n",
              "                      additive=\"sum\"\n",
              "                      fill=\"freeze\"\n",
              "                /><animateTransform attributeName=\"transform\"\n",
              "                    type=\"rotate\"\n",
              "                    from=\"0 0 0\" to =\"-90 0 0\"\n",
              "                    begin=\"one.end\" dur=\"0.005s\"\n",
              "                    repeatCount=\"1\"\n",
              "                    additive=\"sum\"\n",
              "                    fill=\"freeze\"\n",
              "                /></g>\n",
              "      </svg>\n",
              "    "
            ],
            "text/plain": [
              "<IPython.core.display.HTML object>"
            ]
          },
          "metadata": {},
          "output_type": "display_data"
        },
        {
          "name": "stdout",
          "output_type": "stream",
          "text": [
            "(100.0, 0.0)\n",
            "(100.0, 100.0)\n",
            "(0.0, 100.0)\n",
            "(0.0, 0.0)\n"
          ]
        }
      ],
      "source": [
        "\n",
        "### SETUP ###\n",
        "clearscreen()\n",
        "Sandbox = Screen()\n",
        "Tracy = Turtle()\n",
        "Sandbox.bgcolor(10, 0, 40)\n",
        "Tracy.shape(\"turtle\")\n",
        "Tracy.color(\"orange\")\n",
        "Tracy.shapesize(.5)\n",
        "Tracy.speed(100)\n",
        "### END SETUP ###\n",
        "\n",
        "# Draw a square:\n",
        "# Tracy.forward(100)\n",
        "# Tracy.left(90)\n",
        "# Tracy.forward(100)\n",
        "# Tracy.left(90)\n",
        "# Tracy.forward(100)\n",
        "# Tracy.left(90)\n",
        "# Tracy.forward(100)\n",
        "# Tracy.left(90)\n",
        "\n",
        "def walk_turn():\n",
        "    Tracy.forward(100)\n",
        "    Tracy.left(90)\n",
        "    print(Tracy.position())\n",
        "    if Tracy.position() != (0.0, 0.0):\n",
        "        walk_turn()\n",
        "    \n",
        "\n",
        "\n",
        "\n",
        "def draw_square(length):\n",
        "    Tracy.forward(length)\n",
        "    Tracy.right(90)\n",
        "    Tracy.forward(length)\n",
        "    Tracy.right(90)\n",
        "    Tracy.forward(length)\n",
        "    Tracy.right(90)\n",
        "    Tracy.forward(length)\n",
        "\n",
        "def draw_triangle(length):\n",
        "    Tracy.forward(length)\n",
        "    Tracy.left(120)\n",
        "    Tracy.forward(length)\n",
        "    Tracy.left(120)\n",
        "    Tracy.forward(length)\n",
        "\n",
        "def draw_star(length):\n",
        "    Tracy.forward(length)\n",
        "    Tracy.right(144)\n",
        "    Tracy.forward(length)\n",
        "    Tracy.right(144)\n",
        "    Tracy.forward(length)\n",
        "    Tracy.right(144)\n",
        "    Tracy.forward(length)\n",
        "    Tracy.right(144)\n",
        "    Tracy.forward(length)\n",
        "\n",
        "# draw_triangle(75)\n",
        "# draw_square(75)\n",
        "# draw_star(100)\n",
        "walk_turn()\n"
      ]
    },
    {
      "cell_type": "markdown",
      "metadata": {},
      "source": [
        "Now try to modify the code above to draw the square using a function to avoid repeating as many identical lines of code.  Maybe define a function that combines the forward and turn steps.\n",
        "\n",
        "**Note**: If you know what they are, you might be tempted to use *loops* to make this simpler.  Hold that thought.  The goal of this activity is to use functions instead of loops."
      ]
    },
    {
      "cell_type": "markdown",
      "metadata": {},
      "source": [
        "### Recursion to the rescue\n",
        "\n",
        "Can we do even better?  A function tells Tracy what to do.  Can the function tell Tracy what to do next as well?  Try telling Tracy to walk, turn, and repeat."
      ]
    },
    {
      "cell_type": "code",
      "execution_count": 36,
      "metadata": {},
      "outputs": [
        {
          "data": {
            "text/html": [
              "\n",
              "      <svg width=\"800\" height=\"600\">  \n",
              "        <rect width=\"100%\" height=\"100%\" style=\"fill:rgb(10,20,0);stroke:;stroke-width:1\"/>\n",
              "        \n",
              "        \n",
              "        <line x1=\"400.0\" y1=\"300.0\" x2=\"500.0\" y2=\"300.0\" stroke-linecap=\"round\" style=\"stroke:orange;stroke-width:1\" /><line x1=\"500.0\" y1=\"300.0\" x2=\"570.711\" y2=\"229.289\" stroke-linecap=\"round\" style=\"stroke:orange;stroke-width:1\" /><line x1=\"570.711\" y1=\"229.289\" x2=\"570.711\" y2=\"129.289\" stroke-linecap=\"round\" style=\"stroke:orange;stroke-width:1\" /><line x1=\"570.711\" y1=\"129.289\" x2=\"500.0\" y2=\"58.578\" stroke-linecap=\"round\" style=\"stroke:orange;stroke-width:1\" /><line x1=\"500.0\" y1=\"58.578\" x2=\"400.0\" y2=\"58.578\" stroke-linecap=\"round\" style=\"stroke:orange;stroke-width:1\" /><line x1=\"400.0\" y1=\"58.578\" x2=\"329.289\" y2=\"129.289\" stroke-linecap=\"round\" style=\"stroke:orange;stroke-width:1\" /><line x1=\"329.289\" y1=\"129.289\" x2=\"329.289\" y2=\"229.289\" stroke-linecap=\"round\" style=\"stroke:orange;stroke-width:1\" /><line x1=\"329.289\" y1=\"229.289\" x2=\"400.0\" y2=\"300.0\" stroke-linecap=\"round\" style=\"stroke:orange;stroke-width:1\" />\n",
              "        \n",
              "        \n",
              "        <g id=\"turtle\" visibility=\"visible\" transform=\"rotate(135,400.0,300.0) translate(400.0, 300.0)\">\n",
              "<path style=\"stroke:orange;fill-rule:evenodd;fill:orange;fill-opacity:1;\" transform=\"skewX(0) scale(1,1)\" d=\"m 1.1536693,-18.56101 c -2.105469,1.167969 -3.203125,3.441407 -3.140625,6.5 l 0.011719,0.519532 -0.300782,-0.15625 c -1.308594,-0.671875 -2.828125,-0.824219 -4.378906,-0.429688 -1.9375,0.484375 -3.8906253,2.089844 -6.0117193,4.9257825 -1.332031,1.785156 -1.714843,2.644531 -1.351562,3.035156 l 0.113281,0.125 h 0.363281 c 0.71875,0 1.308594,-0.265625 4.6679693,-2.113282 1.199219,-0.660156 2.183594,-1.199218 2.191406,-1.199218 0.00781,0 -0.023437,0.089844 -0.074218,0.195312 -0.472657,1.058594 -1.046876,2.785156 -1.335938,4.042969 -1.054688,4.574219 -0.351562,8.453125 2.101562,11.582031 0.28125,0.355469 0.292969,0.253906 -0.097656,0.722656 -2.046875,2.4609375 -3.027344,4.8984375 -2.734375,6.8046875 0.050781,0.339844 0.042969,0.335938 0.679688,0.335938 2.023437,0 4.15625,-1.316407 6.21875,-3.835938 0.222656,-0.269531 0.191406,-0.261719 0.425781,-0.113281 0.730469,0.46875 2.460938,1.390625 2.613281,1.390625 0.160157,0 1.765625,-0.753906 2.652344,-1.246094 0.167969,-0.09375 0.308594,-0.164062 0.308594,-0.160156 0.066406,0.105468 0.761719,0.855468 1.085937,1.171875 1.613282,1.570312 3.339844,2.402343 5.3593747,2.570312 0.324219,0.02734 0.355469,0.0078 0.425781,-0.316406 0.375,-1.742187 -0.382812,-4.058594 -2.1445307,-6.5585935 l -0.320312,-0.457031 0.15625,-0.183594 c 3.2460927,-3.824218 3.4335927,-9.08593704 0.558593,-15.816406 l -0.050781,-0.125 1.7382807,0.859375 c 3.585938,1.773437 4.371094,2.097656 5.085938,2.097656 0.945312,0 0.75,-0.863281 -0.558594,-2.507812 C 11.458356,-11.838353 8.3333563,-13.268041 4.8607003,-11.721166 l -0.363281,0.164063 0.019531,-0.09375 c 0.121094,-0.550781 0.183594,-1.800781 0.121094,-2.378907 -0.203125,-1.867187 -1.035157,-3.199218 -2.695313,-4.308593 -0.523437,-0.351563 -0.546875,-0.355469 -0.789062,-0.222657\" />\n",
              "<animateTransform id = \"one\" attributeName=\"transform\" \n",
              "                      type=\"scale\"\n",
              "                      from=\"1 1\" to=\"0.5 0.5\"\n",
              "                      begin=\"0s\" dur=\"0.01s\"\n",
              "                      repeatCount=\"1\"\n",
              "                      additive=\"sum\"\n",
              "                      fill=\"freeze\"\n",
              "                /><animateTransform attributeName=\"transform\"\n",
              "                    type=\"rotate\"\n",
              "                    from=\"0 0 0\" to =\"-45 0 0\"\n",
              "                    begin=\"one.end\" dur=\"0.0025s\"\n",
              "                    repeatCount=\"1\"\n",
              "                    additive=\"sum\"\n",
              "                    fill=\"freeze\"\n",
              "                /></g>\n",
              "      </svg>\n",
              "    "
            ],
            "text/plain": [
              "<IPython.core.display.HTML object>"
            ]
          },
          "metadata": {},
          "output_type": "display_data"
        }
      ],
      "source": [
        "### SETUP ###\n",
        "clearscreen()\n",
        "Sandbox = Screen()\n",
        "Tracy = Turtle()\n",
        "Sandbox.bgcolor(10, 20, 0)\n",
        "Tracy.shape(\"turtle\")\n",
        "Tracy.color(\"orange\")\n",
        "Tracy.speed(50)\n",
        "Tracy.shapesize(.5)\n",
        "### END SETUP ###\n",
        "\n",
        "def walk_turn(dist, ang):\n",
        "  Tracy.forward(dist)\n",
        "  Tracy.left(ang)\n",
        "  if Tracy.position() != (0.0, 0.0):\n",
        "    walk_turn(dist, ang)\n",
        "  #Fill in the function\n",
        "\n",
        "#Call the function\n",
        "walk_turn(100,45)"
      ]
    },
    {
      "cell_type": "markdown",
      "metadata": {},
      "source": [
        "### Polygons\n",
        "\n",
        "The code above should be able to draw shapes other than squares.  How could you tell it to draw an octagon?\n",
        "\n",
        "Actually, why don't we just write a function `polygon(sides, size)` that draws a polygon with `sides` sides each of size `size`:"
      ]
    },
    {
      "cell_type": "code",
      "execution_count": 43,
      "metadata": {},
      "outputs": [
        {
          "data": {
            "text/html": [
              "\n",
              "      <svg width=\"800\" height=\"600\">  \n",
              "        <rect width=\"100%\" height=\"100%\" style=\"fill:rgb(10,20,20);stroke:;stroke-width:1\"/>\n",
              "        \n",
              "        \n",
              "        <line x1=\"400.0\" y1=\"300.0\" x2=\"475.0\" y2=\"300.0\" stroke-linecap=\"round\" style=\"stroke:orange;stroke-width:1\" /><line x1=\"475.0\" y1=\"300.0\" x2=\"535.676\" y2=\"255.916\" stroke-linecap=\"round\" style=\"stroke:orange;stroke-width:1\" /><line x1=\"535.676\" y1=\"255.916\" x2=\"558.852\" y2=\"184.587\" stroke-linecap=\"round\" style=\"stroke:orange;stroke-width:1\" /><line x1=\"558.852\" y1=\"184.587\" x2=\"535.676\" y2=\"113.258\" stroke-linecap=\"round\" style=\"stroke:orange;stroke-width:1\" /><line x1=\"535.676\" y1=\"113.258\" x2=\"475.0\" y2=\"69.174\" stroke-linecap=\"round\" style=\"stroke:orange;stroke-width:1\" /><line x1=\"475.0\" y1=\"69.174\" x2=\"400.0\" y2=\"69.174\" stroke-linecap=\"round\" style=\"stroke:orange;stroke-width:1\" /><line x1=\"400.0\" y1=\"69.174\" x2=\"339.324\" y2=\"113.258\" stroke-linecap=\"round\" style=\"stroke:orange;stroke-width:1\" /><line x1=\"339.324\" y1=\"113.258\" x2=\"316.148\" y2=\"184.587\" stroke-linecap=\"round\" style=\"stroke:orange;stroke-width:1\" /><line x1=\"316.148\" y1=\"184.587\" x2=\"339.324\" y2=\"255.916\" stroke-linecap=\"round\" style=\"stroke:orange;stroke-width:1\" /><line x1=\"339.324\" y1=\"255.916\" x2=\"400.0\" y2=\"300.0\" stroke-linecap=\"round\" style=\"stroke:orange;stroke-width:1\" />\n",
              "        \n",
              "        \n",
              "        <g id=\"turtle\" visibility=\"visible\" transform=\"rotate(126.0,400.0,300.0) translate(400.0, 300.0)\">\n",
              "<path style=\"stroke:orange;fill-rule:evenodd;fill:orange;fill-opacity:1;\" transform=\"skewX(0) scale(1,1)\" d=\"m 1.1536693,-18.56101 c -2.105469,1.167969 -3.203125,3.441407 -3.140625,6.5 l 0.011719,0.519532 -0.300782,-0.15625 c -1.308594,-0.671875 -2.828125,-0.824219 -4.378906,-0.429688 -1.9375,0.484375 -3.8906253,2.089844 -6.0117193,4.9257825 -1.332031,1.785156 -1.714843,2.644531 -1.351562,3.035156 l 0.113281,0.125 h 0.363281 c 0.71875,0 1.308594,-0.265625 4.6679693,-2.113282 1.199219,-0.660156 2.183594,-1.199218 2.191406,-1.199218 0.00781,0 -0.023437,0.089844 -0.074218,0.195312 -0.472657,1.058594 -1.046876,2.785156 -1.335938,4.042969 -1.054688,4.574219 -0.351562,8.453125 2.101562,11.582031 0.28125,0.355469 0.292969,0.253906 -0.097656,0.722656 -2.046875,2.4609375 -3.027344,4.8984375 -2.734375,6.8046875 0.050781,0.339844 0.042969,0.335938 0.679688,0.335938 2.023437,0 4.15625,-1.316407 6.21875,-3.835938 0.222656,-0.269531 0.191406,-0.261719 0.425781,-0.113281 0.730469,0.46875 2.460938,1.390625 2.613281,1.390625 0.160157,0 1.765625,-0.753906 2.652344,-1.246094 0.167969,-0.09375 0.308594,-0.164062 0.308594,-0.160156 0.066406,0.105468 0.761719,0.855468 1.085937,1.171875 1.613282,1.570312 3.339844,2.402343 5.3593747,2.570312 0.324219,0.02734 0.355469,0.0078 0.425781,-0.316406 0.375,-1.742187 -0.382812,-4.058594 -2.1445307,-6.5585935 l -0.320312,-0.457031 0.15625,-0.183594 c 3.2460927,-3.824218 3.4335927,-9.08593704 0.558593,-15.816406 l -0.050781,-0.125 1.7382807,0.859375 c 3.585938,1.773437 4.371094,2.097656 5.085938,2.097656 0.945312,0 0.75,-0.863281 -0.558594,-2.507812 C 11.458356,-11.838353 8.3333563,-13.268041 4.8607003,-11.721166 l -0.363281,0.164063 0.019531,-0.09375 c 0.121094,-0.550781 0.183594,-1.800781 0.121094,-2.378907 -0.203125,-1.867187 -1.035157,-3.199218 -2.695313,-4.308593 -0.523437,-0.351563 -0.546875,-0.355469 -0.789062,-0.222657\" />\n",
              "<animateTransform id = \"one\" attributeName=\"transform\" \n",
              "                      type=\"scale\"\n",
              "                      from=\"1 1\" to=\"1 1\"\n",
              "                      begin=\"0s\" dur=\"0.01s\"\n",
              "                      repeatCount=\"1\"\n",
              "                      additive=\"sum\"\n",
              "                      fill=\"freeze\"\n",
              "                /><animateTransform attributeName=\"transform\"\n",
              "                    type=\"rotate\"\n",
              "                    from=\"0 0 0\" to =\"-36.0 0 0\"\n",
              "                    begin=\"one.end\" dur=\"0.032s\"\n",
              "                    repeatCount=\"1\"\n",
              "                    additive=\"sum\"\n",
              "                    fill=\"freeze\"\n",
              "                /></g>\n",
              "      </svg>\n",
              "    "
            ],
            "text/plain": [
              "<IPython.core.display.HTML object>"
            ]
          },
          "metadata": {},
          "output_type": "display_data"
        },
        {
          "name": "stdout",
          "output_type": "stream",
          "text": [
            "1\n",
            "(75.0, 0.0)\n",
            "2\n",
            "(135.67600000000004, 44.084)\n",
            "3\n",
            "(158.85199999999998, 115.41300000000001)\n",
            "4\n",
            "(135.67600000000004, 186.74200000000002)\n",
            "5\n",
            "(75.0, 230.826)\n",
            "6\n",
            "(0.0, 230.826)\n",
            "7\n",
            "(-60.67599999999999, 186.74200000000002)\n",
            "8\n",
            "(-83.85199999999998, 115.41300000000001)\n",
            "9\n",
            "(-60.67599999999999, 44.084)\n",
            "10\n",
            "(0.0, 0.0)\n"
          ]
        }
      ],
      "source": [
        "### SETUP ###\n",
        "clearscreen()\n",
        "Sandbox = Screen()\n",
        "Tracy = Turtle()\n",
        "Sandbox.bgcolor(10, 20, 20)\n",
        "Tracy.shape(\"turtle\")\n",
        "Tracy.color(\"orange\")\n",
        "Tracy.speed(10)\n",
        "### END SETUP ###\n",
        "\n",
        "def polygon(sides, size, counter = 1):\n",
        "  Tracy.forward(size)\n",
        "  Tracy.left(360 / sides)\n",
        "  # print(counter)\n",
        "  # print(Tracy.position())\n",
        "  if counter < sides:\n",
        "    polygon(sides, size, counter + 1)\n",
        "  #Fill in the function\n",
        "\n",
        "#Call the function\n",
        "polygon(10, 75)"
      ]
    },
    {
      "cell_type": "markdown",
      "metadata": {},
      "source": [
        "Just for fun, see what happens if you modify `sides` or `size` when you tell Tracy to \"repeat\".  Could you draw a cool spiral?"
      ]
    },
    {
      "cell_type": "code",
      "execution_count": null,
      "metadata": {},
      "outputs": [],
      "source": [
        "### SETUP ###\n",
        "clearscreen()\n",
        "Sandbox = Screen()\n",
        "Tracy = Turtle()\n",
        "Sandbox.bgcolor(30, 10, 0)\n",
        "Tracy.shape(\"turtle\")\n",
        "Tracy.color(\"orange\")\n",
        "### END SETUP ###\n",
        "\n",
        "def spiral():\n",
        "  pass\n",
        "  #Fill in the function\n",
        "\n",
        "#Call the function\n",
        "spiral()"
      ]
    },
    {
      "cell_type": "markdown",
      "metadata": {},
      "source": [
        "### Fractals!\n",
        "\n",
        "Try executing the code below:"
      ]
    },
    {
      "cell_type": "code",
      "execution_count": 22,
      "metadata": {},
      "outputs": [
        {
          "data": {
            "text/html": [
              "\n",
              "      <svg width=\"800\" height=\"600\">  \n",
              "        <rect width=\"100%\" height=\"100%\" style=\"fill:rgb(14,81,53);stroke:;stroke-width:1\"/>\n",
              "        \n",
              "        \n",
              "        <line x1=\"250.0\" y1=\"400.0\" x2=\"287.5\" y2=\"400.0\" stroke-linecap=\"round\" style=\"stroke:rgb(212,206,70);stroke-width:1\" /><line x1=\"287.5\" y1=\"400.0\" x2=\"268.75\" y2=\"367.524\" stroke-linecap=\"round\" style=\"stroke:rgb(212,206,70);stroke-width:1\" /><line x1=\"268.75\" y1=\"367.524\" x2=\"250.0\" y2=\"400.0\" stroke-linecap=\"round\" style=\"stroke:rgb(212,206,70);stroke-width:1\" /><line x1=\"325.0\" y1=\"400.0\" x2=\"306.25\" y2=\"367.524\" stroke-linecap=\"round\" style=\"stroke:rgb(212,206,70);stroke-width:1\" /><line x1=\"306.25\" y1=\"367.524\" x2=\"287.5\" y2=\"400.0\" stroke-linecap=\"round\" style=\"stroke:rgb(212,206,70);stroke-width:1\" /><line x1=\"287.5\" y1=\"400.0\" x2=\"325.0\" y2=\"400.0\" stroke-linecap=\"round\" style=\"stroke:rgb(212,206,70);stroke-width:1\" /><line x1=\"287.5\" y1=\"335.048\" x2=\"268.75\" y2=\"367.524\" stroke-linecap=\"round\" style=\"stroke:rgb(212,206,70);stroke-width:1\" /><line x1=\"268.75\" y1=\"367.524\" x2=\"306.25\" y2=\"367.524\" stroke-linecap=\"round\" style=\"stroke:rgb(212,206,70);stroke-width:1\" /><line x1=\"306.25\" y1=\"367.524\" x2=\"287.5\" y2=\"335.048\" stroke-linecap=\"round\" style=\"stroke:rgb(212,206,70);stroke-width:1\" /><line x1=\"400.0\" y1=\"400.0\" x2=\"381.25\" y2=\"367.524\" stroke-linecap=\"round\" style=\"stroke:rgb(212,206,70);stroke-width:1\" /><line x1=\"381.25\" y1=\"367.524\" x2=\"362.5\" y2=\"400.0\" stroke-linecap=\"round\" style=\"stroke:rgb(212,206,70);stroke-width:1\" /><line x1=\"362.5\" y1=\"400.0\" x2=\"400.0\" y2=\"400.0\" stroke-linecap=\"round\" style=\"stroke:rgb(212,206,70);stroke-width:1\" /><line x1=\"362.5\" y1=\"335.048\" x2=\"343.75\" y2=\"367.524\" stroke-linecap=\"round\" style=\"stroke:rgb(212,206,70);stroke-width:1\" /><line x1=\"343.75\" y1=\"367.524\" x2=\"381.25\" y2=\"367.524\" stroke-linecap=\"round\" style=\"stroke:rgb(212,206,70);stroke-width:1\" /><line x1=\"381.25\" y1=\"367.524\" x2=\"362.5\" y2=\"335.048\" stroke-linecap=\"round\" style=\"stroke:rgb(212,206,70);stroke-width:1\" /><line x1=\"325.0\" y1=\"400.0\" x2=\"362.5\" y2=\"400.0\" stroke-linecap=\"round\" style=\"stroke:rgb(212,206,70);stroke-width:1\" /><line x1=\"362.5\" y1=\"400.0\" x2=\"343.75\" y2=\"367.524\" stroke-linecap=\"round\" style=\"stroke:rgb(212,206,70);stroke-width:1\" /><line x1=\"343.75\" y1=\"367.524\" x2=\"325.0\" y2=\"400.0\" stroke-linecap=\"round\" style=\"stroke:rgb(212,206,70);stroke-width:1\" /><line x1=\"325.0\" y1=\"270.096\" x2=\"306.25\" y2=\"302.572\" stroke-linecap=\"round\" style=\"stroke:rgb(212,206,70);stroke-width:1\" /><line x1=\"306.25\" y1=\"302.572\" x2=\"343.75\" y2=\"302.572\" stroke-linecap=\"round\" style=\"stroke:rgb(212,206,70);stroke-width:1\" /><line x1=\"343.75\" y1=\"302.572\" x2=\"325.0\" y2=\"270.096\" stroke-linecap=\"round\" style=\"stroke:rgb(212,206,70);stroke-width:1\" /><line x1=\"287.5\" y1=\"335.048\" x2=\"325.0\" y2=\"335.048\" stroke-linecap=\"round\" style=\"stroke:rgb(212,206,70);stroke-width:1\" /><line x1=\"325.0\" y1=\"335.048\" x2=\"306.25\" y2=\"302.572\" stroke-linecap=\"round\" style=\"stroke:rgb(212,206,70);stroke-width:1\" /><line x1=\"306.25\" y1=\"302.572\" x2=\"287.5\" y2=\"335.048\" stroke-linecap=\"round\" style=\"stroke:rgb(212,206,70);stroke-width:1\" /><line x1=\"362.5\" y1=\"335.048\" x2=\"343.75\" y2=\"302.572\" stroke-linecap=\"round\" style=\"stroke:rgb(212,206,70);stroke-width:1\" /><line x1=\"343.75\" y1=\"302.572\" x2=\"325.0\" y2=\"335.048\" stroke-linecap=\"round\" style=\"stroke:rgb(212,206,70);stroke-width:1\" /><line x1=\"325.0\" y1=\"335.048\" x2=\"362.5\" y2=\"335.048\" stroke-linecap=\"round\" style=\"stroke:rgb(212,206,70);stroke-width:1\" /><line x1=\"550.0\" y1=\"400.0\" x2=\"531.25\" y2=\"367.524\" stroke-linecap=\"round\" style=\"stroke:rgb(212,206,70);stroke-width:1\" /><line x1=\"531.25\" y1=\"367.524\" x2=\"512.5\" y2=\"400.0\" stroke-linecap=\"round\" style=\"stroke:rgb(212,206,70);stroke-width:1\" /><line x1=\"512.5\" y1=\"400.0\" x2=\"550.0\" y2=\"400.0\" stroke-linecap=\"round\" style=\"stroke:rgb(212,206,70);stroke-width:1\" /><line x1=\"512.5\" y1=\"335.048\" x2=\"493.75\" y2=\"367.524\" stroke-linecap=\"round\" style=\"stroke:rgb(212,206,70);stroke-width:1\" /><line x1=\"493.75\" y1=\"367.524\" x2=\"531.25\" y2=\"367.524\" stroke-linecap=\"round\" style=\"stroke:rgb(212,206,70);stroke-width:1\" /><line x1=\"531.25\" y1=\"367.524\" x2=\"512.5\" y2=\"335.048\" stroke-linecap=\"round\" style=\"stroke:rgb(212,206,70);stroke-width:1\" /><line x1=\"475.0\" y1=\"400.0\" x2=\"512.5\" y2=\"400.0\" stroke-linecap=\"round\" style=\"stroke:rgb(212,206,70);stroke-width:1\" /><line x1=\"512.5\" y1=\"400.0\" x2=\"493.75\" y2=\"367.524\" stroke-linecap=\"round\" style=\"stroke:rgb(212,206,70);stroke-width:1\" /><line x1=\"493.75\" y1=\"367.524\" x2=\"475.0\" y2=\"400.0\" stroke-linecap=\"round\" style=\"stroke:rgb(212,206,70);stroke-width:1\" /><line x1=\"475.0\" y1=\"270.096\" x2=\"456.25\" y2=\"302.572\" stroke-linecap=\"round\" style=\"stroke:rgb(212,206,70);stroke-width:1\" /><line x1=\"456.25\" y1=\"302.572\" x2=\"493.75\" y2=\"302.572\" stroke-linecap=\"round\" style=\"stroke:rgb(212,206,70);stroke-width:1\" /><line x1=\"493.75\" y1=\"302.572\" x2=\"475.0\" y2=\"270.096\" stroke-linecap=\"round\" style=\"stroke:rgb(212,206,70);stroke-width:1\" /><line x1=\"437.5\" y1=\"335.048\" x2=\"475.0\" y2=\"335.048\" stroke-linecap=\"round\" style=\"stroke:rgb(212,206,70);stroke-width:1\" /><line x1=\"475.0\" y1=\"335.048\" x2=\"456.25\" y2=\"302.572\" stroke-linecap=\"round\" style=\"stroke:rgb(212,206,70);stroke-width:1\" /><line x1=\"456.25\" y1=\"302.572\" x2=\"437.5\" y2=\"335.048\" stroke-linecap=\"round\" style=\"stroke:rgb(212,206,70);stroke-width:1\" /><line x1=\"512.5\" y1=\"335.048\" x2=\"493.75\" y2=\"302.572\" stroke-linecap=\"round\" style=\"stroke:rgb(212,206,70);stroke-width:1\" /><line x1=\"493.75\" y1=\"302.572\" x2=\"475.0\" y2=\"335.048\" stroke-linecap=\"round\" style=\"stroke:rgb(212,206,70);stroke-width:1\" /><line x1=\"475.0\" y1=\"335.048\" x2=\"512.5\" y2=\"335.048\" stroke-linecap=\"round\" style=\"stroke:rgb(212,206,70);stroke-width:1\" /><line x1=\"400.0\" y1=\"400.0\" x2=\"437.5\" y2=\"400.0\" stroke-linecap=\"round\" style=\"stroke:rgb(212,206,70);stroke-width:1\" /><line x1=\"437.5\" y1=\"400.0\" x2=\"418.75\" y2=\"367.524\" stroke-linecap=\"round\" style=\"stroke:rgb(212,206,70);stroke-width:1\" /><line x1=\"418.75\" y1=\"367.524\" x2=\"400.0\" y2=\"400.0\" stroke-linecap=\"round\" style=\"stroke:rgb(212,206,70);stroke-width:1\" /><line x1=\"475.0\" y1=\"400.0\" x2=\"456.25\" y2=\"367.524\" stroke-linecap=\"round\" style=\"stroke:rgb(212,206,70);stroke-width:1\" /><line x1=\"456.25\" y1=\"367.524\" x2=\"437.5\" y2=\"400.0\" stroke-linecap=\"round\" style=\"stroke:rgb(212,206,70);stroke-width:1\" /><line x1=\"437.5\" y1=\"400.0\" x2=\"475.0\" y2=\"400.0\" stroke-linecap=\"round\" style=\"stroke:rgb(212,206,70);stroke-width:1\" /><line x1=\"437.5\" y1=\"335.048\" x2=\"418.75\" y2=\"367.524\" stroke-linecap=\"round\" style=\"stroke:rgb(212,206,70);stroke-width:1\" /><line x1=\"418.75\" y1=\"367.524\" x2=\"456.25\" y2=\"367.524\" stroke-linecap=\"round\" style=\"stroke:rgb(212,206,70);stroke-width:1\" /><line x1=\"456.25\" y1=\"367.524\" x2=\"437.5\" y2=\"335.048\" stroke-linecap=\"round\" style=\"stroke:rgb(212,206,70);stroke-width:1\" /><line x1=\"400.0\" y1=\"140.192\" x2=\"381.25\" y2=\"172.668\" stroke-linecap=\"round\" style=\"stroke:rgb(212,206,70);stroke-width:1\" /><line x1=\"381.25\" y1=\"172.668\" x2=\"418.75\" y2=\"172.668\" stroke-linecap=\"round\" style=\"stroke:rgb(212,206,70);stroke-width:1\" /><line x1=\"418.75\" y1=\"172.668\" x2=\"400.0\" y2=\"140.192\" stroke-linecap=\"round\" style=\"stroke:rgb(212,206,70);stroke-width:1\" /><line x1=\"362.5\" y1=\"205.144\" x2=\"400.0\" y2=\"205.144\" stroke-linecap=\"round\" style=\"stroke:rgb(212,206,70);stroke-width:1\" /><line x1=\"400.0\" y1=\"205.144\" x2=\"381.25\" y2=\"172.668\" stroke-linecap=\"round\" style=\"stroke:rgb(212,206,70);stroke-width:1\" /><line x1=\"381.25\" y1=\"172.668\" x2=\"362.5\" y2=\"205.144\" stroke-linecap=\"round\" style=\"stroke:rgb(212,206,70);stroke-width:1\" /><line x1=\"437.5\" y1=\"205.144\" x2=\"418.75\" y2=\"172.668\" stroke-linecap=\"round\" style=\"stroke:rgb(212,206,70);stroke-width:1\" /><line x1=\"418.75\" y1=\"172.668\" x2=\"400.0\" y2=\"205.144\" stroke-linecap=\"round\" style=\"stroke:rgb(212,206,70);stroke-width:1\" /><line x1=\"400.0\" y1=\"205.144\" x2=\"437.5\" y2=\"205.144\" stroke-linecap=\"round\" style=\"stroke:rgb(212,206,70);stroke-width:1\" /><line x1=\"325.0\" y1=\"270.096\" x2=\"362.5\" y2=\"270.096\" stroke-linecap=\"round\" style=\"stroke:rgb(212,206,70);stroke-width:1\" /><line x1=\"362.5\" y1=\"270.096\" x2=\"343.75\" y2=\"237.62\" stroke-linecap=\"round\" style=\"stroke:rgb(212,206,70);stroke-width:1\" /><line x1=\"343.75\" y1=\"237.62\" x2=\"325.0\" y2=\"270.096\" stroke-linecap=\"round\" style=\"stroke:rgb(212,206,70);stroke-width:1\" /><line x1=\"400.0\" y1=\"270.096\" x2=\"381.25\" y2=\"237.62\" stroke-linecap=\"round\" style=\"stroke:rgb(212,206,70);stroke-width:1\" /><line x1=\"381.25\" y1=\"237.62\" x2=\"362.5\" y2=\"270.096\" stroke-linecap=\"round\" style=\"stroke:rgb(212,206,70);stroke-width:1\" /><line x1=\"362.5\" y1=\"270.096\" x2=\"400.0\" y2=\"270.096\" stroke-linecap=\"round\" style=\"stroke:rgb(212,206,70);stroke-width:1\" /><line x1=\"362.5\" y1=\"205.144\" x2=\"343.75\" y2=\"237.62\" stroke-linecap=\"round\" style=\"stroke:rgb(212,206,70);stroke-width:1\" /><line x1=\"343.75\" y1=\"237.62\" x2=\"381.25\" y2=\"237.62\" stroke-linecap=\"round\" style=\"stroke:rgb(212,206,70);stroke-width:1\" /><line x1=\"381.25\" y1=\"237.62\" x2=\"362.5\" y2=\"205.144\" stroke-linecap=\"round\" style=\"stroke:rgb(212,206,70);stroke-width:1\" /><line x1=\"475.0\" y1=\"270.096\" x2=\"456.25\" y2=\"237.62\" stroke-linecap=\"round\" style=\"stroke:rgb(212,206,70);stroke-width:1\" /><line x1=\"456.25\" y1=\"237.62\" x2=\"437.5\" y2=\"270.096\" stroke-linecap=\"round\" style=\"stroke:rgb(212,206,70);stroke-width:1\" /><line x1=\"437.5\" y1=\"270.096\" x2=\"475.0\" y2=\"270.096\" stroke-linecap=\"round\" style=\"stroke:rgb(212,206,70);stroke-width:1\" /><line x1=\"437.5\" y1=\"205.144\" x2=\"418.75\" y2=\"237.62\" stroke-linecap=\"round\" style=\"stroke:rgb(212,206,70);stroke-width:1\" /><line x1=\"418.75\" y1=\"237.62\" x2=\"456.25\" y2=\"237.62\" stroke-linecap=\"round\" style=\"stroke:rgb(212,206,70);stroke-width:1\" /><line x1=\"456.25\" y1=\"237.62\" x2=\"437.5\" y2=\"205.144\" stroke-linecap=\"round\" style=\"stroke:rgb(212,206,70);stroke-width:1\" /><line x1=\"400.0\" y1=\"270.096\" x2=\"437.5\" y2=\"270.096\" stroke-linecap=\"round\" style=\"stroke:rgb(212,206,70);stroke-width:1\" /><line x1=\"437.5\" y1=\"270.096\" x2=\"418.75\" y2=\"237.62\" stroke-linecap=\"round\" style=\"stroke:rgb(212,206,70);stroke-width:1\" /><line x1=\"418.75\" y1=\"237.62\" x2=\"400.0\" y2=\"270.096\" stroke-linecap=\"round\" style=\"stroke:rgb(212,206,70);stroke-width:1\" />\n",
              "        \n",
              "        \n",
              "        <g id=\"triangle\" visibility=\"visible\" transform=\"rotate(30,250.0,400.0) translate(250.0, 400.0)\">\n",
              "<polygon points=\"10,-8.66 0,8.66 -10,-8.66\" transform=\"skewX(0) scale(1,1)\" style=\"stroke:rgb(212,206,70);fill:rgb(212,206,70);stroke-width:1\" />\n",
              "<animateTransform id = \"one\" attributeName=\"transform\" \n",
              "                      type=\"scale\"\n",
              "                      from=\"1 1\" to=\"1 1\"\n",
              "                      begin=\"0s\" dur=\"0.01s\"\n",
              "                      repeatCount=\"1\"\n",
              "                      additive=\"sum\"\n",
              "                      fill=\"freeze\"\n",
              "                /><animateTransform attributeName=\"transform\"\n",
              "                    type=\"rotate\"\n",
              "                    from=\"0 0 0\" to =\"-120 0 0\"\n",
              "                    begin=\"one.end\" dur=\"0.006666666666666666s\"\n",
              "                    repeatCount=\"1\"\n",
              "                    additive=\"sum\"\n",
              "                    fill=\"freeze\"\n",
              "                /></g>\n",
              "      </svg>\n",
              "    "
            ],
            "text/plain": [
              "<IPython.core.display.HTML object>"
            ]
          },
          "metadata": {},
          "output_type": "display_data"
        }
      ],
      "source": [
        "### SETUP ###\n",
        "clearscreen()\n",
        "Sandbox = Screen()\n",
        "Tracy = Turtle()\n",
        "Sandbox.bgcolor(14,81,53)\n",
        "Tracy.shape(\"triangle\")\n",
        "Tracy.color(212,206,70)\n",
        "### END SETUP ###\n",
        "\n",
        "Tracy.speed(100)\n",
        "def triangle(sidelength, sidecount=0):\n",
        "  if sidecount < 3:\n",
        "    Tracy.pendown()\n",
        "    Tracy.forward(sidelength)\n",
        "    Tracy.left(120)\n",
        "    triangle(sidelength, sidecount+1)\n",
        "\n",
        "def triforce(size,depth,counter=0):\n",
        "  if counter < depth:\n",
        "    triforce(size/2, depth, counter+1)\n",
        "    Tracy.penup()\n",
        "    Tracy.forward(size*2)\n",
        "    Tracy.left(120)\n",
        "    triforce(size/2, depth, counter+1)\n",
        "    Tracy.penup()\n",
        "    Tracy.forward(size*2)\n",
        "    Tracy.left(120)\n",
        "    triforce(size/2, depth, counter+1)\n",
        "    Tracy.penup()\n",
        "    Tracy.forward(size*2)\n",
        "    Tracy.left(120)\n",
        "  else:\n",
        "    triangle(size*2)\n",
        "\n",
        "\n",
        "#change start position to center image\n",
        "Tracy.penup()\n",
        "Tracy.goto(-150,-100)\n",
        "triforce(150,5)"
      ]
    },
    {
      "cell_type": "markdown",
      "metadata": {},
      "source": [
        "Part of what makes the code above complicated is that we are calling the function recursively three times inside itself. To see what is going on better, let's look at one that only calls itself once each time through."
      ]
    },
    {
      "cell_type": "code",
      "execution_count": 28,
      "metadata": {},
      "outputs": [
        {
          "data": {
            "text/html": [
              "\n",
              "      <svg width=\"800\" height=\"600\">  \n",
              "        <rect width=\"100%\" height=\"100%\" style=\"fill:rgb(0,0,0);stroke:;stroke-width:1\"/>\n",
              "        \n",
              "        \n",
              "        <path d=\"M 400.0 300.0 A 0.390625 0.390625 0 0 0 400.276 299.886\" stroke-linecap=\"round\" \n",
              "            fill=\"transparent\" fill-opacity=\"0\" style=\"stroke:pink;stroke-width:1\"/><path d=\"M 400.276 299.886 A 0.390625 0.390625 0 0 0 399.724 299.334\" stroke-linecap=\"round\" \n",
              "            fill=\"transparent\" fill-opacity=\"0\" style=\"stroke:pink;stroke-width:1\"/><path d=\"M 399.724 299.334 A 0.390625 0.390625 0 0 0 400.276 299.886\" stroke-linecap=\"round\" \n",
              "            fill=\"transparent\" fill-opacity=\"0\" style=\"stroke:pink;stroke-width:1\"/><path d=\"M 400.276 299.886 A 0.78125 0.78125 0 0 0 400.505 299.334\" stroke-linecap=\"round\" \n",
              "            fill=\"transparent\" fill-opacity=\"0\" style=\"stroke:pink;stroke-width:1\"/><path d=\"M 400.505 299.334 A 0.78125 0.78125 0 0 0 398.942 299.334\" stroke-linecap=\"round\" \n",
              "            fill=\"transparent\" fill-opacity=\"0\" style=\"stroke:pink;stroke-width:1\"/><path d=\"M 398.942 299.334 A 0.78125 0.78125 0 0 0 400.505 299.334\" stroke-linecap=\"round\" \n",
              "            fill=\"transparent\" fill-opacity=\"0\" style=\"stroke:pink;stroke-width:1\"/><path d=\"M 400.505 299.334 A 1.5625 1.5625 0 0 0 400.047 298.229\" stroke-linecap=\"round\" \n",
              "            fill=\"transparent\" fill-opacity=\"0\" style=\"stroke:pink;stroke-width:1\"/><path d=\"M 400.047 298.229 A 1.5625 1.5625 0 0 0 397.837 300.439\" stroke-linecap=\"round\" \n",
              "            fill=\"transparent\" fill-opacity=\"0\" style=\"stroke:pink;stroke-width:1\"/><path d=\"M 397.837 300.439 A 1.5625 1.5625 0 0 0 400.047 298.229\" stroke-linecap=\"round\" \n",
              "            fill=\"transparent\" fill-opacity=\"0\" style=\"stroke:pink;stroke-width:1\"/><path d=\"M 400.047 298.229 A 3.125 3.125 0 0 0 397.837 297.314\" stroke-linecap=\"round\" \n",
              "            fill=\"transparent\" fill-opacity=\"0\" style=\"stroke:pink;stroke-width:1\"/><path d=\"M 397.837 297.314 A 3.125 3.125 0 0 0 397.837 303.564\" stroke-linecap=\"round\" \n",
              "            fill=\"transparent\" fill-opacity=\"0\" style=\"stroke:pink;stroke-width:1\"/><path d=\"M 397.837 303.564 A 3.125 3.125 0 0 0 397.837 297.314\" stroke-linecap=\"round\" \n",
              "            fill=\"transparent\" fill-opacity=\"0\" style=\"stroke:pink;stroke-width:1\"/><path d=\"M 397.837 297.314 A 6.25 6.25 0 0 0 393.418 299.145\" stroke-linecap=\"round\" \n",
              "            fill=\"transparent\" fill-opacity=\"0\" style=\"stroke:pink;stroke-width:1\"/><path d=\"M 393.418 299.145 A 6.25 6.25 0 0 0 402.257 307.984\" stroke-linecap=\"round\" \n",
              "            fill=\"transparent\" fill-opacity=\"0\" style=\"stroke:pink;stroke-width:1\"/><path d=\"M 402.257 307.984 A 6.25 6.25 0 0 0 393.418 299.145\" stroke-linecap=\"round\" \n",
              "            fill=\"transparent\" fill-opacity=\"0\" style=\"stroke:pink;stroke-width:1\"/><path d=\"M 393.418 299.145 A 12.5 12.5 0 0 0 389.757 307.984\" stroke-linecap=\"round\" \n",
              "            fill=\"transparent\" fill-opacity=\"0\" style=\"stroke:pink;stroke-width:1\"/><path d=\"M 389.757 307.984 A 12.5 12.5 0 0 0 414.757 307.984\" stroke-linecap=\"round\" \n",
              "            fill=\"transparent\" fill-opacity=\"0\" style=\"stroke:pink;stroke-width:1\"/><path d=\"M 414.757 307.984 A 12.5 12.5 0 0 0 389.757 307.984\" stroke-linecap=\"round\" \n",
              "            fill=\"transparent\" fill-opacity=\"0\" style=\"stroke:pink;stroke-width:1\"/><path d=\"M 389.757 307.984 A 25.0 25.0 0 0 0 397.079 325.662\" stroke-linecap=\"round\" \n",
              "            fill=\"transparent\" fill-opacity=\"0\" style=\"stroke:pink;stroke-width:1\"/><path d=\"M 397.079 325.662 A 25.0 25.0 0 0 0 432.434 290.307\" stroke-linecap=\"round\" \n",
              "            fill=\"transparent\" fill-opacity=\"0\" style=\"stroke:pink;stroke-width:1\"/><path d=\"M 432.434 290.307 A 25.0 25.0 0 0 0 397.079 325.662\" stroke-linecap=\"round\" \n",
              "            fill=\"transparent\" fill-opacity=\"0\" style=\"stroke:pink;stroke-width:1\"/><path d=\"M 397.079 325.662 A 50.0 50.0 0 0 0 432.434 340.307\" stroke-linecap=\"round\" \n",
              "            fill=\"transparent\" fill-opacity=\"0\" style=\"stroke:pink;stroke-width:1\"/><path d=\"M 432.434 340.307 A 50.0 50.0 0 0 0 432.434 240.307\" stroke-linecap=\"round\" \n",
              "            fill=\"transparent\" fill-opacity=\"0\" style=\"stroke:pink;stroke-width:1\"/><path d=\"M 432.434 240.307 A 50.0 50.0 0 0 0 432.434 340.307\" stroke-linecap=\"round\" \n",
              "            fill=\"transparent\" fill-opacity=\"0\" style=\"stroke:pink;stroke-width:1\"/><path d=\"M 432.434 340.307 A 100.0 100.0 0 0 0 503.145 311.018\" stroke-linecap=\"round\" \n",
              "            fill=\"transparent\" fill-opacity=\"0\" style=\"stroke:pink;stroke-width:1\"/><path d=\"M 503.145 311.018 A 100.0 100.0 0 0 0 361.724 169.597\" stroke-linecap=\"round\" \n",
              "            fill=\"transparent\" fill-opacity=\"0\" style=\"stroke:pink;stroke-width:1\"/><path d=\"M 361.724 169.597 A 100.0 100.0 0 0 0 503.145 311.018\" stroke-linecap=\"round\" \n",
              "            fill=\"transparent\" fill-opacity=\"0\" style=\"stroke:pink;stroke-width:1\"/><path d=\"M 503.145 311.018 A 200 200 0 0 0 561.724 169.597\" stroke-linecap=\"round\" \n",
              "            fill=\"transparent\" fill-opacity=\"0\" style=\"stroke:pink;stroke-width:1\"/><path d=\"M 561.724 169.597 A 200 200 0 0 0 554.909 117.833\" stroke-linecap=\"round\" \n",
              "            fill=\"transparent\" fill-opacity=\"0\" style=\"stroke:pink;stroke-width:1\"/><path d=\"M 554.909 117.833 A 200 200 0 0 0 534.929 69.597\" stroke-linecap=\"round\" \n",
              "            fill=\"transparent\" fill-opacity=\"0\" style=\"stroke:pink;stroke-width:1\"/><path d=\"M 534.929 69.597 A 200 200 0 0 0 503.145 28.176\" stroke-linecap=\"round\" \n",
              "            fill=\"transparent\" fill-opacity=\"0\" style=\"stroke:pink;stroke-width:1\"/><path d=\"M 503.145 28.176 A 200 200 0 0 0 461.724 -3.608\" stroke-linecap=\"round\" \n",
              "            fill=\"transparent\" fill-opacity=\"0\" style=\"stroke:pink;stroke-width:1\"/><path d=\"M 461.724 -3.608 A 200 200 0 0 0 413.488 -23.588\" stroke-linecap=\"round\" \n",
              "            fill=\"transparent\" fill-opacity=\"0\" style=\"stroke:pink;stroke-width:1\"/><path d=\"M 413.488 -23.588 A 200 200 0 0 0 361.724 -30.403\" stroke-linecap=\"round\" \n",
              "            fill=\"transparent\" fill-opacity=\"0\" style=\"stroke:pink;stroke-width:1\"/><path d=\"M 361.724 -30.403 A 200 200 0 0 0 309.96 -23.588\" stroke-linecap=\"round\" \n",
              "            fill=\"transparent\" fill-opacity=\"0\" style=\"stroke:pink;stroke-width:1\"/><path d=\"M 309.96 -23.588 A 200 200 0 0 0 261.724 -3.608\" stroke-linecap=\"round\" \n",
              "            fill=\"transparent\" fill-opacity=\"0\" style=\"stroke:pink;stroke-width:1\"/><path d=\"M 261.724 -3.608 A 200 200 0 0 0 220.303 28.176\" stroke-linecap=\"round\" \n",
              "            fill=\"transparent\" fill-opacity=\"0\" style=\"stroke:pink;stroke-width:1\"/><path d=\"M 220.303 28.176 A 200 200 0 0 0 188.519 69.597\" stroke-linecap=\"round\" \n",
              "            fill=\"transparent\" fill-opacity=\"0\" style=\"stroke:pink;stroke-width:1\"/><path d=\"M 188.519 69.597 A 200 200 0 0 0 168.539 117.833\" stroke-linecap=\"round\" \n",
              "            fill=\"transparent\" fill-opacity=\"0\" style=\"stroke:pink;stroke-width:1\"/><path d=\"M 168.539 117.833 A 200 200 0 0 0 161.724 169.597\" stroke-linecap=\"round\" \n",
              "            fill=\"transparent\" fill-opacity=\"0\" style=\"stroke:pink;stroke-width:1\"/><path d=\"M 161.724 169.597 A 200 200 0 0 0 168.539 221.361\" stroke-linecap=\"round\" \n",
              "            fill=\"transparent\" fill-opacity=\"0\" style=\"stroke:pink;stroke-width:1\"/><path d=\"M 168.539 221.361 A 200 200 0 0 0 188.519 269.597\" stroke-linecap=\"round\" \n",
              "            fill=\"transparent\" fill-opacity=\"0\" style=\"stroke:pink;stroke-width:1\"/><path d=\"M 188.519 269.597 A 200 200 0 0 0 220.303 311.018\" stroke-linecap=\"round\" \n",
              "            fill=\"transparent\" fill-opacity=\"0\" style=\"stroke:pink;stroke-width:1\"/><path d=\"M 220.303 311.018 A 200 200 0 0 0 261.724 342.802\" stroke-linecap=\"round\" \n",
              "            fill=\"transparent\" fill-opacity=\"0\" style=\"stroke:pink;stroke-width:1\"/><path d=\"M 261.724 342.802 A 200 200 0 0 0 309.96 362.782\" stroke-linecap=\"round\" \n",
              "            fill=\"transparent\" fill-opacity=\"0\" style=\"stroke:pink;stroke-width:1\"/><path d=\"M 309.96 362.782 A 200 200 0 0 0 361.724 369.597\" stroke-linecap=\"round\" \n",
              "            fill=\"transparent\" fill-opacity=\"0\" style=\"stroke:pink;stroke-width:1\"/><path d=\"M 361.724 369.597 A 200 200 0 0 0 413.488 362.782\" stroke-linecap=\"round\" \n",
              "            fill=\"transparent\" fill-opacity=\"0\" style=\"stroke:pink;stroke-width:1\"/><path d=\"M 413.488 362.782 A 200 200 0 0 0 461.724 342.802\" stroke-linecap=\"round\" \n",
              "            fill=\"transparent\" fill-opacity=\"0\" style=\"stroke:pink;stroke-width:1\"/><path d=\"M 461.724 342.802 A 200 200 0 0 0 503.145 311.018\" stroke-linecap=\"round\" \n",
              "            fill=\"transparent\" fill-opacity=\"0\" style=\"stroke:pink;stroke-width:1\"/><path d=\"M 503.145 311.018 A 200 200 0 0 0 534.929 269.597\" stroke-linecap=\"round\" \n",
              "            fill=\"transparent\" fill-opacity=\"0\" style=\"stroke:pink;stroke-width:1\"/><path d=\"M 534.929 269.597 A 200 200 0 0 0 554.909 221.361\" stroke-linecap=\"round\" \n",
              "            fill=\"transparent\" fill-opacity=\"0\" style=\"stroke:pink;stroke-width:1\"/><path d=\"M 554.909 221.361 A 200 200 0 0 0 561.724 169.597\" stroke-linecap=\"round\" \n",
              "            fill=\"transparent\" fill-opacity=\"0\" style=\"stroke:pink;stroke-width:1\"/>\n",
              "        \n",
              "        \n",
              "        <g id=\"turtle\" visibility=\"visible\" transform=\"rotate(360.0,561.724,169.597) translate(561.724, 169.597)\">\n",
              "<path style=\"stroke:pink;fill-rule:evenodd;fill:pink;fill-opacity:1;\" transform=\"skewX(0) scale(1,1)\" d=\"m 1.1536693,-18.56101 c -2.105469,1.167969 -3.203125,3.441407 -3.140625,6.5 l 0.011719,0.519532 -0.300782,-0.15625 c -1.308594,-0.671875 -2.828125,-0.824219 -4.378906,-0.429688 -1.9375,0.484375 -3.8906253,2.089844 -6.0117193,4.9257825 -1.332031,1.785156 -1.714843,2.644531 -1.351562,3.035156 l 0.113281,0.125 h 0.363281 c 0.71875,0 1.308594,-0.265625 4.6679693,-2.113282 1.199219,-0.660156 2.183594,-1.199218 2.191406,-1.199218 0.00781,0 -0.023437,0.089844 -0.074218,0.195312 -0.472657,1.058594 -1.046876,2.785156 -1.335938,4.042969 -1.054688,4.574219 -0.351562,8.453125 2.101562,11.582031 0.28125,0.355469 0.292969,0.253906 -0.097656,0.722656 -2.046875,2.4609375 -3.027344,4.8984375 -2.734375,6.8046875 0.050781,0.339844 0.042969,0.335938 0.679688,0.335938 2.023437,0 4.15625,-1.316407 6.21875,-3.835938 0.222656,-0.269531 0.191406,-0.261719 0.425781,-0.113281 0.730469,0.46875 2.460938,1.390625 2.613281,1.390625 0.160157,0 1.765625,-0.753906 2.652344,-1.246094 0.167969,-0.09375 0.308594,-0.164062 0.308594,-0.160156 0.066406,0.105468 0.761719,0.855468 1.085937,1.171875 1.613282,1.570312 3.339844,2.402343 5.3593747,2.570312 0.324219,0.02734 0.355469,0.0078 0.425781,-0.316406 0.375,-1.742187 -0.382812,-4.058594 -2.1445307,-6.5585935 l -0.320312,-0.457031 0.15625,-0.183594 c 3.2460927,-3.824218 3.4335927,-9.08593704 0.558593,-15.816406 l -0.050781,-0.125 1.7382807,0.859375 c 3.585938,1.773437 4.371094,2.097656 5.085938,2.097656 0.945312,0 0.75,-0.863281 -0.558594,-2.507812 C 11.458356,-11.838353 8.3333563,-13.268041 4.8607003,-11.721166 l -0.363281,0.164063 0.019531,-0.09375 c 0.121094,-0.550781 0.183594,-1.800781 0.121094,-2.378907 -0.203125,-1.867187 -1.035157,-3.199218 -2.695313,-4.308593 -0.523437,-0.351563 -0.546875,-0.355469 -0.789062,-0.222657\" />\n",
              "</g>\n",
              "      </svg>\n",
              "    "
            ],
            "text/plain": [
              "<IPython.core.display.HTML object>"
            ]
          },
          "metadata": {},
          "output_type": "display_data"
        }
      ],
      "source": [
        "### SETUP ###\n",
        "clearscreen()\n",
        "Sandbox = Screen()\n",
        "Tracy = Turtle()\n",
        "Sandbox.bgcolor(0, 0, 0)\n",
        "Tracy.shape(\"turtle\")\n",
        "Tracy.color(\"pink\")\n",
        "### END SETUP ###\n",
        "\n",
        "Tracy.speed(10)\n",
        "def circles(size, depth, counter=0):\n",
        "  if counter < depth:\n",
        "    circles(0.5*size, depth, counter+1)\n",
        "    # \"stamp\" so we can see where the circle starts\n",
        "    # Tracy.stamp()\n",
        "    # Move start to a quarter way around a circle\n",
        "    Tracy.circle(size,90)\n",
        "    # Draw a circle\n",
        "    Tracy.circle(size)\n",
        "\n",
        "\n",
        "circles(200,5)"
      ]
    },
    {
      "cell_type": "markdown",
      "metadata": {},
      "source": [
        "## What's next?  \n",
        "\n",
        "Let's add a little color.  Can we write a function that colors the sides of a polygon with three colors, repeating in sequence?  How can we control that?"
      ]
    },
    {
      "cell_type": "code",
      "execution_count": 36,
      "metadata": {},
      "outputs": [
        {
          "data": {
            "text/html": [
              "\n",
              "      <svg width=\"800\" height=\"600\">  \n",
              "        <rect width=\"100%\" height=\"100%\" style=\"fill:rgb(0,0,0);stroke:;stroke-width:1\"/>\n",
              "        \n",
              "        \n",
              "        <line x1=\"400.0\" y1=\"300.0\" x2=\"425.0\" y2=\"300.0\" stroke-linecap=\"round\" style=\"stroke:blue;stroke-width:1\" /><line x1=\"425.0\" y1=\"300.0\" x2=\"446.651\" y2=\"287.5\" stroke-linecap=\"round\" style=\"stroke:green;stroke-width:1\" /><line x1=\"446.651\" y1=\"287.5\" x2=\"459.151\" y2=\"265.849\" stroke-linecap=\"round\" style=\"stroke:red;stroke-width:1\" /><line x1=\"459.151\" y1=\"265.849\" x2=\"459.151\" y2=\"240.849\" stroke-linecap=\"round\" style=\"stroke:blue;stroke-width:1\" /><line x1=\"459.151\" y1=\"240.849\" x2=\"446.651\" y2=\"219.198\" stroke-linecap=\"round\" style=\"stroke:green;stroke-width:1\" /><line x1=\"446.651\" y1=\"219.198\" x2=\"425.0\" y2=\"206.698\" stroke-linecap=\"round\" style=\"stroke:red;stroke-width:1\" /><line x1=\"425.0\" y1=\"206.698\" x2=\"400.0\" y2=\"206.698\" stroke-linecap=\"round\" style=\"stroke:blue;stroke-width:1\" /><line x1=\"400.0\" y1=\"206.698\" x2=\"378.349\" y2=\"219.198\" stroke-linecap=\"round\" style=\"stroke:green;stroke-width:1\" /><line x1=\"378.349\" y1=\"219.198\" x2=\"365.849\" y2=\"240.849\" stroke-linecap=\"round\" style=\"stroke:red;stroke-width:1\" /><line x1=\"365.849\" y1=\"240.849\" x2=\"365.849\" y2=\"265.849\" stroke-linecap=\"round\" style=\"stroke:blue;stroke-width:1\" /><line x1=\"365.849\" y1=\"265.849\" x2=\"378.349\" y2=\"287.5\" stroke-linecap=\"round\" style=\"stroke:green;stroke-width:1\" /><line x1=\"378.349\" y1=\"287.5\" x2=\"400.0\" y2=\"300.0\" stroke-linecap=\"round\" style=\"stroke:red;stroke-width:1\" />\n",
              "        \n",
              "        \n",
              "        <g id=\"turtle\" visibility=\"visible\" transform=\"rotate(120.0,400.0,300.0) translate(400.0, 300.0)\">\n",
              "<path style=\"stroke:red;fill-rule:evenodd;fill:red;fill-opacity:1;\" transform=\"skewX(0) scale(1,1)\" d=\"m 1.1536693,-18.56101 c -2.105469,1.167969 -3.203125,3.441407 -3.140625,6.5 l 0.011719,0.519532 -0.300782,-0.15625 c -1.308594,-0.671875 -2.828125,-0.824219 -4.378906,-0.429688 -1.9375,0.484375 -3.8906253,2.089844 -6.0117193,4.9257825 -1.332031,1.785156 -1.714843,2.644531 -1.351562,3.035156 l 0.113281,0.125 h 0.363281 c 0.71875,0 1.308594,-0.265625 4.6679693,-2.113282 1.199219,-0.660156 2.183594,-1.199218 2.191406,-1.199218 0.00781,0 -0.023437,0.089844 -0.074218,0.195312 -0.472657,1.058594 -1.046876,2.785156 -1.335938,4.042969 -1.054688,4.574219 -0.351562,8.453125 2.101562,11.582031 0.28125,0.355469 0.292969,0.253906 -0.097656,0.722656 -2.046875,2.4609375 -3.027344,4.8984375 -2.734375,6.8046875 0.050781,0.339844 0.042969,0.335938 0.679688,0.335938 2.023437,0 4.15625,-1.316407 6.21875,-3.835938 0.222656,-0.269531 0.191406,-0.261719 0.425781,-0.113281 0.730469,0.46875 2.460938,1.390625 2.613281,1.390625 0.160157,0 1.765625,-0.753906 2.652344,-1.246094 0.167969,-0.09375 0.308594,-0.164062 0.308594,-0.160156 0.066406,0.105468 0.761719,0.855468 1.085937,1.171875 1.613282,1.570312 3.339844,2.402343 5.3593747,2.570312 0.324219,0.02734 0.355469,0.0078 0.425781,-0.316406 0.375,-1.742187 -0.382812,-4.058594 -2.1445307,-6.5585935 l -0.320312,-0.457031 0.15625,-0.183594 c 3.2460927,-3.824218 3.4335927,-9.08593704 0.558593,-15.816406 l -0.050781,-0.125 1.7382807,0.859375 c 3.585938,1.773437 4.371094,2.097656 5.085938,2.097656 0.945312,0 0.75,-0.863281 -0.558594,-2.507812 C 11.458356,-11.838353 8.3333563,-13.268041 4.8607003,-11.721166 l -0.363281,0.164063 0.019531,-0.09375 c 0.121094,-0.550781 0.183594,-1.800781 0.121094,-2.378907 -0.203125,-1.867187 -1.035157,-3.199218 -2.695313,-4.308593 -0.523437,-0.351563 -0.546875,-0.355469 -0.789062,-0.222657\" />\n",
              "<animateTransform id = \"one\" attributeName=\"transform\" \n",
              "                      type=\"scale\"\n",
              "                      from=\"1 1\" to=\"1 1\"\n",
              "                      begin=\"0s\" dur=\"0.01s\"\n",
              "                      repeatCount=\"1\"\n",
              "                      additive=\"sum\"\n",
              "                      fill=\"freeze\"\n",
              "                /><animateTransform attributeName=\"transform\"\n",
              "                    type=\"rotate\"\n",
              "                    from=\"0 0 0\" to =\"-30.0 0 0\"\n",
              "                    begin=\"one.end\" dur=\"0.026666666666666665s\"\n",
              "                    repeatCount=\"1\"\n",
              "                    additive=\"sum\"\n",
              "                    fill=\"freeze\"\n",
              "                /></g>\n",
              "      </svg>\n",
              "    "
            ],
            "text/plain": [
              "<IPython.core.display.HTML object>"
            ]
          },
          "metadata": {},
          "output_type": "display_data"
        }
      ],
      "source": [
        "### SETUP ###\n",
        "clearscreen()\n",
        "Sandbox = Screen()\n",
        "Tracy = Turtle()\n",
        "Sandbox.bgcolor(0, 0, 0)\n",
        "Tracy.shape(\"turtle\")\n",
        "Tracy.color(\"blue\")\n",
        "Tracy.speed(10) \n",
        "### END SETUP ###\n",
        "\n",
        "colorlist = ['blue', 'green', 'red']\n",
        "\n",
        "def polygon(sides, size, counter = 1):\n",
        "    Tracy.forward(size)\n",
        "    Tracy.left(360 / sides)\n",
        "    if counter < sides:\n",
        "        Tracy.color(colorlist[counter % 3])\n",
        "        polygon(sides, size, counter + 1)\n",
        "\n",
        "polygon(12, 25)"
      ]
    }
  ],
  "metadata": {
    "colab": {
      "include_colab_link": true,
      "provenance": []
    },
    "kernelspec": {
      "display_name": "Python 3",
      "name": "python3"
    },
    "language_info": {
      "codemirror_mode": {
        "name": "ipython",
        "version": 3
      },
      "file_extension": ".py",
      "mimetype": "text/x-python",
      "name": "python",
      "nbconvert_exporter": "python",
      "pygments_lexer": "ipython3",
      "version": "3.10.8"
    }
  },
  "nbformat": 4,
  "nbformat_minor": 0
}
